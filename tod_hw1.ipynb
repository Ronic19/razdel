{
  "cells": [
    {
      "cell_type": "code",
      "execution_count": null,
      "id": "216ab59d-1e2d-4f6b-af36-3247e219c399",
      "metadata": {
        "id": "216ab59d-1e2d-4f6b-af36-3247e219c399"
      },
      "outputs": [],
      "source": [
        "import numpy as np"
      ]
    },
    {
      "cell_type": "markdown",
      "id": "0761d246-8dad-4502-b690-fd43640aee20",
      "metadata": {
        "id": "0761d246-8dad-4502-b690-fd43640aee20"
      },
      "source": [
        "**Задание 1**"
      ]
    },
    {
      "cell_type": "code",
      "execution_count": null,
      "id": "dae0dc33-8841-4526-b037-5751cf24b93a",
      "metadata": {
        "colab": {
          "base_uri": "https://localhost:8080/"
        },
        "id": "dae0dc33-8841-4526-b037-5751cf24b93a",
        "outputId": "d68663f7-9e51-45e8-ab55-0ae3d8bba8f4"
      },
      "outputs": [
        {
          "output_type": "stream",
          "name": "stdout",
          "text": [
            "Первые 5 строк массива:\n",
            "[[127244     60     16]\n",
            " [ 23891     25      7]\n",
            " [ 94746     10      6]\n",
            " [ 67660      5      6]\n",
            " [157911     60     14]]\n"
          ]
        }
      ],
      "source": [
        "reciepe = np.loadtxt('minutes_n_ingredients.csv', delimiter=',', dtype=int, skiprows=1)\n",
        "print(f'Первые 5 строк массива:\\n{reciepe[:5]}')"
      ]
    },
    {
      "cell_type": "markdown",
      "id": "c19ab103-25e5-44a1-bd6a-f255fd41fdeb",
      "metadata": {
        "id": "c19ab103-25e5-44a1-bd6a-f255fd41fdeb"
      },
      "source": [
        "**Задание 2**"
      ]
    },
    {
      "cell_type": "code",
      "execution_count": null,
      "id": "bc26aff1-1755-433c-b82d-363d794df16f",
      "metadata": {
        "id": "bc26aff1-1755-433c-b82d-363d794df16f"
      },
      "outputs": [],
      "source": [
        "max_arr = np.max(reciepe, axis=0)\n",
        "min_arr = np.min(reciepe, axis=0)\n",
        "mean_arr = np.mean(reciepe, axis=0)\n",
        "median_arr = np.median(reciepe, axis=0)"
      ]
    },
    {
      "cell_type": "code",
      "execution_count": null,
      "id": "12c5e4d7-890e-4b48-ae67-b0ac33dc8480",
      "metadata": {
        "colab": {
          "base_uri": "https://localhost:8080/"
        },
        "id": "12c5e4d7-890e-4b48-ae67-b0ac33dc8480",
        "outputId": "8c164b93-4fb8-463f-e4b9-205545ce0401"
      },
      "outputs": [
        {
          "output_type": "stream",
          "name": "stdout",
          "text": [
            "Спеднее по столбцу minutes: 21601.00169\n",
            "Минимум по стобцу minutes: 0\n",
            "Максимум по стобцу minutes: 2147483647\n",
            "Медиана по стобцу minutes: 40.0\n"
          ]
        }
      ],
      "source": [
        "print(f\"Спеднее по столбцу minutes: {mean_arr[1]}\")\n",
        "print(f\"Минимум по стобцу minutes: {min_arr[1]}\")\n",
        "print(f\"Максимум по стобцу minutes: {max_arr[1]}\")\n",
        "print(f\"Медиана по стобцу minutes: {median_arr[1]}\")"
      ]
    },
    {
      "cell_type": "code",
      "execution_count": null,
      "id": "669173e3-64ec-4819-9196-81a00c319de2",
      "metadata": {
        "colab": {
          "base_uri": "https://localhost:8080/"
        },
        "id": "669173e3-64ec-4819-9196-81a00c319de2",
        "outputId": "a3b0633f-9fc9-417c-d528-9dcd253c04e6"
      },
      "outputs": [
        {
          "output_type": "stream",
          "name": "stdout",
          "text": [
            "Спеднее по столбцу n_ingredients: 9.05528\n",
            "Минимум по стобцу n_ingredients: 1\n",
            "Максимум по столбцу n_ingredients: 39\n",
            "Медиана по стобцу n_ingredients: 9.0\n"
          ]
        }
      ],
      "source": [
        "print(f\"Спеднее по столбцу n_ingredients: {mean_arr[2]}\")\n",
        "print(f\"Минимум по стобцу n_ingredients: {min_arr[2]}\")\n",
        "print(f\"Максимум по столбцу n_ingredients: {max_arr[2]}\")\n",
        "print(f\"Медиана по стобцу n_ingredients: {median_arr[2]}\")"
      ]
    },
    {
      "cell_type": "markdown",
      "id": "89273fe9-284d-48f6-bc8f-9dd747674846",
      "metadata": {
        "id": "89273fe9-284d-48f6-bc8f-9dd747674846"
      },
      "source": [
        "**Задание 3**"
      ]
    },
    {
      "cell_type": "code",
      "source": [
        "qnt = np.quantile(reciepe, 0.75, axis=0)\n",
        "\n",
        "# До ограниничения значения продолжительности\n",
        "reciepe[reciepe[:, 1] > qnt[1]]"
      ],
      "metadata": {
        "colab": {
          "base_uri": "https://localhost:8080/"
        },
        "id": "4PQ2vJInz53c",
        "outputId": "d1b73004-c50c-430a-deb2-827c20e7f79e"
      },
      "id": "4PQ2vJInz53c",
      "execution_count": null,
      "outputs": [
        {
          "output_type": "execute_result",
          "data": {
            "text/plain": [
              "array([[280968,     85,     11],\n",
              "       [ 99836,    180,      7],\n",
              "       [ 87775,     80,     13],\n",
              "       ...,\n",
              "       [147074,     95,     15],\n",
              "       [287943,     85,     15],\n",
              "       [ 81993,    140,     14]])"
            ]
          },
          "metadata": {},
          "execution_count": 20
        }
      ]
    },
    {
      "cell_type": "code",
      "execution_count": null,
      "id": "adbd948b-2139-49b1-a89d-ed36cf1e23cf",
      "metadata": {
        "colab": {
          "base_uri": "https://localhost:8080/"
        },
        "id": "adbd948b-2139-49b1-a89d-ed36cf1e23cf",
        "outputId": "5b0a3b9f-5f27-4b48-eaae-b7d9fc1adcf6"
      },
      "outputs": [
        {
          "output_type": "stream",
          "name": "stdout",
          "text": [
            "Квантиль: 65.0\n"
          ]
        },
        {
          "output_type": "execute_result",
          "data": {
            "text/plain": [
              "array([], shape=(0, 3), dtype=int64)"
            ]
          },
          "metadata": {},
          "execution_count": 13
        }
      ],
      "source": [
        "more_than_qnt = reciepe[reciepe[:, 1] > qnt[1]]\n",
        "more_than_qnt[:, 1] = qnt[1]\n",
        "reciepe[reciepe[:, 1] > qnt[1]] = more_than_qnt\n",
        "print(f'Квантиль: {qnt[1]}')\n",
        "\n",
        "# После ограничения значения продолжительности значением квантиля\n",
        "reciepe[reciepe[:, 1] > qnt[1]]"
      ]
    },
    {
      "cell_type": "markdown",
      "id": "14c14e96-f47e-447c-bec4-dcc12b65ecaf",
      "metadata": {
        "id": "14c14e96-f47e-447c-bec4-dcc12b65ecaf"
      },
      "source": [
        "**Задание 4**"
      ]
    },
    {
      "cell_type": "code",
      "execution_count": null,
      "id": "7b54c271-7c46-40f7-98b2-0790b745a68c",
      "metadata": {
        "colab": {
          "base_uri": "https://localhost:8080/"
        },
        "id": "7b54c271-7c46-40f7-98b2-0790b745a68c",
        "outputId": "c0835d1e-e9be-4a89-af16-8a613e4156b4"
      },
      "outputs": [
        {
          "output_type": "stream",
          "name": "stdout",
          "text": [
            "Рецепты для которых продолжительность равна 0: 479\n"
          ]
        }
      ],
      "source": [
        "count_zero_min = len(reciepe[reciepe[:, 1] == 0])\n",
        "print(f'Рецепты для которых продолжительность равна 0: {count_zero_min}')"
      ]
    },
    {
      "cell_type": "code",
      "execution_count": null,
      "id": "fe97bbe3-bc16-4c8b-9329-3a17d43daa86",
      "metadata": {
        "colab": {
          "base_uri": "https://localhost:8080/"
        },
        "id": "fe97bbe3-bc16-4c8b-9329-3a17d43daa86",
        "outputId": "1fdcb1a9-c465-4be8-be2d-4c7f0fb00cef"
      },
      "outputs": [
        {
          "output_type": "execute_result",
          "data": {
            "text/plain": [
              "array([], shape=(0, 3), dtype=int64)"
            ]
          },
          "metadata": {},
          "execution_count": 22
        }
      ],
      "source": [
        "zero_min = reciepe[reciepe[:, 1] == 0]\n",
        "zero_min[:, 1] = 1\n",
        "reciepe[reciepe[:, 1] == 0] = zero_min\n",
        "reciepe[reciepe[:, 1] == 0]"
      ]
    },
    {
      "cell_type": "markdown",
      "id": "65305475-67c1-4659-b2f2-67b78ed34048",
      "metadata": {
        "id": "65305475-67c1-4659-b2f2-67b78ed34048"
      },
      "source": [
        "**Задание 5**"
      ]
    },
    {
      "cell_type": "code",
      "execution_count": null,
      "id": "caadd2f3-ed47-469a-adc3-21148a6f2852",
      "metadata": {
        "colab": {
          "base_uri": "https://localhost:8080/"
        },
        "id": "caadd2f3-ed47-469a-adc3-21148a6f2852",
        "outputId": "c75f30e6-ce2b-49f4-df9a-ed4fd9e16615"
      },
      "outputs": [
        {
          "output_type": "execute_result",
          "data": {
            "text/plain": [
              "100000"
            ]
          },
          "metadata": {},
          "execution_count": 23
        }
      ],
      "source": [
        "unique_reciepe = np.unique(reciepe[:, 0])\n",
        "len(unique_reciepe)"
      ]
    },
    {
      "cell_type": "markdown",
      "id": "d71e6d72-75e7-4a0c-9533-44ad3f6ed33c",
      "metadata": {
        "id": "d71e6d72-75e7-4a0c-9533-44ad3f6ed33c"
      },
      "source": [
        "**Задание 6**"
      ]
    },
    {
      "cell_type": "code",
      "execution_count": null,
      "id": "9e088604-47c2-4957-9acd-744c3842af10",
      "metadata": {
        "colab": {
          "base_uri": "https://localhost:8080/"
        },
        "id": "9e088604-47c2-4957-9acd-744c3842af10",
        "outputId": "3d9f4b8e-9a70-4007-9ff9-c289588b72e8"
      },
      "outputs": [
        {
          "output_type": "stream",
          "name": "stdout",
          "text": [
            "Значения количества ингридиентов: [ 1  2  3  4  5  6  7  8  9 10 11 12 13 14 15 16 17 18 19 20 21 22 23 24\n",
            " 25 26 27 28 29 30 31 32 33 34 35 37 39]\n",
            "Количество различных значений: 37\n"
          ]
        }
      ],
      "source": [
        "unique_ingredients = np.unique(reciepe[:, 2])\n",
        "print(f'Значения количества ингридиентов: {unique_ingredients}')\n",
        "print(f'Количество различных значений: {len(unique_ingredients)}')"
      ]
    },
    {
      "cell_type": "markdown",
      "id": "4abb333b-1ade-42dd-a493-a7f844f6506c",
      "metadata": {
        "id": "4abb333b-1ade-42dd-a493-a7f844f6506c"
      },
      "source": [
        "**Задание 7**"
      ]
    },
    {
      "cell_type": "code",
      "execution_count": null,
      "id": "ecdb4af2-cd54-4d2b-91ad-f3d07360875e",
      "metadata": {
        "colab": {
          "base_uri": "https://localhost:8080/"
        },
        "id": "ecdb4af2-cd54-4d2b-91ad-f3d07360875e",
        "outputId": "e7c42127-9566-40b9-f60b-9b52f9afd9fa"
      },
      "outputs": [
        {
          "output_type": "execute_result",
          "data": {
            "text/plain": [
              "array([[446597,     15,      5],\n",
              "       [204134,      5,      3],\n",
              "       [ 25623,      6,      4],\n",
              "       ...,\n",
              "       [ 52088,     60,      5],\n",
              "       [128811,     15,      4],\n",
              "       [370915,      5,      4]])"
            ]
          },
          "metadata": {},
          "execution_count": 25
        }
      ],
      "source": [
        "five_and_less = reciepe[reciepe[:, 2] <= 5].copy()\n",
        "five_and_less"
      ]
    },
    {
      "cell_type": "markdown",
      "id": "d1d5319b-e949-4b0a-8407-3fcc7ffbd55d",
      "metadata": {
        "id": "d1d5319b-e949-4b0a-8407-3fcc7ffbd55d"
      },
      "source": [
        "**Задание 8**"
      ]
    },
    {
      "cell_type": "code",
      "execution_count": null,
      "id": "f4b861ff-4ca6-4fcf-b54f-1b9e0e68d6e8",
      "metadata": {
        "colab": {
          "base_uri": "https://localhost:8080/"
        },
        "id": "f4b861ff-4ca6-4fcf-b54f-1b9e0e68d6e8",
        "outputId": "363ae900-3600-40cc-c10e-0a3301ef9558"
      },
      "outputs": [
        {
          "output_type": "stream",
          "name": "stdout",
          "text": [
            "Ингридиентов / мин для каждого рецепта: [0.26666667 0.28       0.6        ... 0.23076923 0.8        0.1       ]\n",
            "Максимальное количество ингридиентов в минуту: 24.0\n"
          ]
        }
      ],
      "source": [
        "ing_per_min = reciepe[:, 2] / reciepe[:, 1]\n",
        "print(f'Ингридиентов / мин для каждого рецепта: {ing_per_min}')\n",
        "max_ing_per_min = max(ing_per_min)\n",
        "print(f'Максимальное количество ингридиентов в минуту: {max_ing_per_min}')"
      ]
    },
    {
      "cell_type": "markdown",
      "id": "fcce12b9-dc34-4055-beb6-74e618d30129",
      "metadata": {
        "id": "fcce12b9-dc34-4055-beb6-74e618d30129"
      },
      "source": [
        "**Задание 9**"
      ]
    },
    {
      "cell_type": "code",
      "execution_count": null,
      "id": "14cf280c-2adb-41f5-8582-55eb2ba6a420",
      "metadata": {
        "colab": {
          "base_uri": "https://localhost:8080/"
        },
        "id": "14cf280c-2adb-41f5-8582-55eb2ba6a420",
        "outputId": "ffb0397d-3f94-479b-ac94-95d0051f8ff4"
      },
      "outputs": [
        {
          "output_type": "stream",
          "name": "stdout",
          "text": [
            "Среднее количество ингридиентов 6.61\n"
          ]
        }
      ],
      "source": [
        "top100 = reciepe[reciepe[:, 1].argsort()][:-101:-1]\n",
        "mean_ing = np.mean(top100, axis=0)[2]\n",
        "print(f'Среднее количество ингридиентов {mean_ing}')"
      ]
    },
    {
      "cell_type": "markdown",
      "id": "3bbbafd9-212f-47df-9d24-719232ed8b9e",
      "metadata": {
        "id": "3bbbafd9-212f-47df-9d24-719232ed8b9e"
      },
      "source": [
        "**Задание 10**"
      ]
    },
    {
      "cell_type": "code",
      "execution_count": null,
      "id": "751df417-b87a-4ded-bfa4-9e5d317a75e8",
      "metadata": {
        "colab": {
          "base_uri": "https://localhost:8080/"
        },
        "id": "751df417-b87a-4ded-bfa4-9e5d317a75e8",
        "outputId": "31a693a4-217e-4c1e-e39a-411bbb9a69e2"
      },
      "outputs": [
        {
          "output_type": "execute_result",
          "data": {
            "text/plain": [
              "array([[[  1075,     75,      9],\n",
              "        [117808,     30,     13],\n",
              "        [527462,     25,      4],\n",
              "        [158791,     65,     14],\n",
              "        [159827,     22,      5],\n",
              "        [ 94691,     60,     15],\n",
              "        [355770,    155,      3],\n",
              "        [279217,     50,     12],\n",
              "        [199604,     15,     13],\n",
              "        [111971,     25,     14],\n",
              "        [306719,     10,     11]]])"
            ]
          },
          "metadata": {},
          "execution_count": 28
        }
      ],
      "source": [
        "random_idx = np.random.randint(len(reciepe), size=(1, 11))\n",
        "reciepe[random_idx]"
      ]
    },
    {
      "cell_type": "markdown",
      "id": "8de3a852-5934-40bd-9a14-7dc5c1bda3d3",
      "metadata": {
        "id": "8de3a852-5934-40bd-9a14-7dc5c1bda3d3"
      },
      "source": [
        "**Задание 11**"
      ]
    },
    {
      "cell_type": "code",
      "execution_count": null,
      "id": "03325212-ca5a-4104-84bb-484446195b64",
      "metadata": {
        "id": "03325212-ca5a-4104-84bb-484446195b64",
        "outputId": "d12dd7a7-5e1d-4e00-988c-dc1ec6411963"
      },
      "outputs": [
        {
          "name": "stdout",
          "output_type": "stream",
          "text": [
            "Процент рецептов, кол-во ингредиентов в которых меньше среднего: 58.802%\n"
          ]
        }
      ],
      "source": [
        "mean_ing = np.mean(reciepe, axis=0)[2]\n",
        "count_less_mean = np.count_nonzero(reciepe[:, 2] < mean_ing)\n",
        "res = 100 * count_less_mean / len(reciepe)\n",
        "print(f'Процент рецептов, кол-во ингредиентов в которых меньше среднего: {res}%')"
      ]
    },
    {
      "cell_type": "markdown",
      "id": "c2d80e36-615c-4026-94e4-fc3fc2c01302",
      "metadata": {
        "id": "c2d80e36-615c-4026-94e4-fc3fc2c01302"
      },
      "source": [
        "**Задание 12**"
      ]
    },
    {
      "cell_type": "code",
      "execution_count": null,
      "id": "f755317b-384b-4b41-a0e8-20c37f9da80c",
      "metadata": {
        "colab": {
          "base_uri": "https://localhost:8080/"
        },
        "id": "f755317b-384b-4b41-a0e8-20c37f9da80c",
        "outputId": "51d4a66f-f586-45e7-9f66-280ff137d1d3"
      },
      "outputs": [
        {
          "output_type": "execute_result",
          "data": {
            "text/plain": [
              "array([[127244,     60,     16,      0],\n",
              "       [ 23891,     25,      7,      0],\n",
              "       [ 94746,     10,      6,      0],\n",
              "       ...,\n",
              "       [498432,     65,     15,      0],\n",
              "       [370915,      5,      4,      1],\n",
              "       [ 81993,    140,     14,      0]])"
            ]
          },
          "metadata": {},
          "execution_count": 29
        }
      ],
      "source": [
        "easy_or_not = np.where((reciepe[:, 1] <= 20) & (reciepe[:, 2] <= 5) == True, 1, 0)\n",
        "reciepe1 = np.concatenate((reciepe, easy_or_not[:, np.newaxis]), axis=1)\n",
        "reciepe1"
      ]
    },
    {
      "cell_type": "markdown",
      "id": "5de543dd-a556-4eab-963b-023c7fc21d9f",
      "metadata": {
        "id": "5de543dd-a556-4eab-963b-023c7fc21d9f"
      },
      "source": [
        "**Задание 13**"
      ]
    },
    {
      "cell_type": "code",
      "execution_count": null,
      "id": "6f284ea5-b266-41ce-ae85-97ab742fd210",
      "metadata": {
        "colab": {
          "base_uri": "https://localhost:8080/"
        },
        "id": "6f284ea5-b266-41ce-ae85-97ab742fd210",
        "outputId": "666c77a9-c0d0-402c-8bc5-6858719af684"
      },
      "outputs": [
        {
          "output_type": "stream",
          "name": "stdout",
          "text": [
            "Процент простых рецептов: 9.552%\n"
          ]
        }
      ],
      "source": [
        "count_easy = np.count_nonzero(reciepe1[:, 3] == 1)\n",
        "res = 100 * count_easy / len(reciepe1)\n",
        "print(f'Процент простых рецептов: {res}%')"
      ]
    },
    {
      "cell_type": "markdown",
      "id": "a1f90959-792d-4cd5-9f63-97bdd8da23ef",
      "metadata": {
        "id": "a1f90959-792d-4cd5-9f63-97bdd8da23ef"
      },
      "source": [
        "**Задание 14**"
      ]
    },
    {
      "cell_type": "code",
      "execution_count": null,
      "id": "a018ba72-bc82-4f1e-931d-b41eef71e942",
      "metadata": {
        "colab": {
          "base_uri": "https://localhost:8080/"
        },
        "id": "a018ba72-bc82-4f1e-931d-b41eef71e942",
        "outputId": "786d83f8-4efb-4551-f36d-8b28cef535cb"
      },
      "outputs": [
        {
          "output_type": "execute_result",
          "data": {
            "text/plain": [
              "array([[[ 67660,      5,      6],\n",
              "        [366174,      7,      9],\n",
              "        [204134,      5,      3],\n",
              "        ...,\n",
              "        [420725,      5,      3],\n",
              "        [  4747,      1,      9],\n",
              "        [370915,      5,      4]],\n",
              "\n",
              "       [[ 94746,     10,      6],\n",
              "        [ 33941,     18,      9],\n",
              "        [446597,     15,      5],\n",
              "        ...,\n",
              "        [  9831,     15,      7],\n",
              "        [335859,     12,     14],\n",
              "        [256812,     10,      3]],\n",
              "\n",
              "       [[127244,     60,     16],\n",
              "        [ 23891,     25,      7],\n",
              "        [157911,     60,     14],\n",
              "        ...,\n",
              "        [168901,     25,      7],\n",
              "        [392339,     35,     13],\n",
              "        [206732,     45,     10]]])"
            ]
          },
          "metadata": {},
          "execution_count": 31
        }
      ],
      "source": [
        "short = reciepe[reciepe[:, 1] < 10]\n",
        "stand = reciepe[(10 <= reciepe[:, 1]) & (reciepe[:, 1] < 20)]\n",
        "long = reciepe[20 <= reciepe[:, 1]]\n",
        "\n",
        "rec_num = min(len(short), len(stand), len(long))\n",
        "\n",
        "reciepe_3d = np.zeros((3, rec_num, 3), dtype=int)\n",
        "reciepe_3d[0] = short[:rec_num]\n",
        "reciepe_3d[1] = stand[:rec_num]\n",
        "reciepe_3d[2] = long[:rec_num]\n",
        "reciepe_3d"
      ]
    },
    {
      "cell_type": "code",
      "execution_count": null,
      "id": "bd204d9e-13cc-484d-9d40-a3cebd8819c3",
      "metadata": {
        "id": "bd204d9e-13cc-484d-9d40-a3cebd8819c3"
      },
      "outputs": [],
      "source": []
    }
  ],
  "metadata": {
    "kernelspec": {
      "display_name": "Python 3 (ipykernel)",
      "language": "python",
      "name": "python3"
    },
    "language_info": {
      "codemirror_mode": {
        "name": "ipython",
        "version": 3
      },
      "file_extension": ".py",
      "mimetype": "text/x-python",
      "name": "python",
      "nbconvert_exporter": "python",
      "pygments_lexer": "ipython3",
      "version": "3.11.0"
    },
    "colab": {
      "provenance": []
    }
  },
  "nbformat": 4,
  "nbformat_minor": 5
}